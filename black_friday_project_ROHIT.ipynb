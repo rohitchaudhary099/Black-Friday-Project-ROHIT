{
  "cells": [
    {
      "cell_type": "markdown",
      "metadata": {
        "id": "view-in-github",
        "colab_type": "text"
      },
      "source": [
        "<a href=\"https://colab.research.google.com/github/RavindrapalRathore/Black-Friday-Sale-Data-Analysis-project/blob/main/black_friday_sales_data_analysis_(1).ipynb\" target=\"_parent\"><img src=\"https://colab.research.google.com/assets/colab-badge.svg\" alt=\"Open In Colab\"/></a>"
      ]
    },
    {
      "cell_type": "code",
      "execution_count": 1,
      "id": "96a2c5e2",
      "metadata": {
        "_cell_guid": "b1076dfc-b9ad-4769-8c92-a6c4dae69d19",
        "_uuid": "8f2839f25d086af736a60e9eeb907d3b93b6e0e5",
        "execution": {
          "iopub.execute_input": "2022-12-28T15:38:42.378924Z",
          "iopub.status.busy": "2022-12-28T15:38:42.378427Z",
          "iopub.status.idle": "2022-12-28T15:38:42.396343Z",
          "shell.execute_reply": "2022-12-28T15:38:42.395368Z"
        },
        "papermill": {
          "duration": 0.036188,
          "end_time": "2022-12-28T15:38:42.400151",
          "exception": false,
          "start_time": "2022-12-28T15:38:42.363963",
          "status": "completed"
        },
        "tags": [],
        "id": "96a2c5e2"
      },
      "outputs": [],
      "source": [
        "import numpy as np \n",
        "import pandas as pd"
      ]
    },
    {
      "cell_type": "code",
      "execution_count": 2,
      "id": "260b6495",
      "metadata": {
        "execution": {
          "iopub.execute_input": "2022-12-28T15:38:42.433223Z",
          "iopub.status.busy": "2022-12-28T15:38:42.431960Z",
          "iopub.status.idle": "2022-12-28T15:38:43.571352Z",
          "shell.execute_reply": "2022-12-28T15:38:43.570074Z"
        },
        "papermill": {
          "duration": 1.161219,
          "end_time": "2022-12-28T15:38:43.574292",
          "exception": false,
          "start_time": "2022-12-28T15:38:42.413073",
          "status": "completed"
        },
        "tags": [],
        "id": "260b6495"
      },
      "outputs": [],
      "source": [
        "import matplotlib.pyplot as plt\n",
        "import seaborn as sns\n",
        "from matplotlib import style\n",
        "from matplotlib import style\n",
        "plt.style.use('_classic_test_patch')"
      ]
    },
    {
      "cell_type": "code",
      "execution_count": 4,
      "id": "0c2da66e",
      "metadata": {
        "execution": {
          "iopub.execute_input": "2022-12-28T15:38:43.598389Z",
          "iopub.status.busy": "2022-12-28T15:38:43.597959Z",
          "iopub.status.idle": "2022-12-28T15:38:44.624640Z",
          "shell.execute_reply": "2022-12-28T15:38:44.623118Z"
        },
        "papermill": {
          "duration": 1.041751,
          "end_time": "2022-12-28T15:38:44.627321",
          "exception": false,
          "start_time": "2022-12-28T15:38:43.585570",
          "status": "completed"
        },
        "tags": [],
        "id": "0c2da66e"
      },
      "outputs": [],
      "source": [
        "df=pd.read_csv('/content/drive/MyDrive/dataset/black friday sale/train.csv')"
      ]
    },
    {
      "cell_type": "code",
      "source": [
        "from google.colab import drive\n",
        "drive.mount('/content/drive')"
      ],
      "metadata": {
        "colab": {
          "base_uri": "https://localhost:8080/"
        },
        "id": "An0x0H8eEvDT",
        "outputId": "9e413a9d-b598-4160-d169-275fd2d954e0"
      },
      "id": "An0x0H8eEvDT",
      "execution_count": 3,
      "outputs": [
        {
          "output_type": "stream",
          "name": "stdout",
          "text": [
            "Mounted at /content/drive\n"
          ]
        }
      ]
    },
    {
      "cell_type": "code",
      "execution_count": 5,
      "id": "8fe37be3",
      "metadata": {
        "execution": {
          "iopub.execute_input": "2022-12-28T15:38:44.651555Z",
          "iopub.status.busy": "2022-12-28T15:38:44.651147Z",
          "iopub.status.idle": "2022-12-28T15:38:44.676049Z",
          "shell.execute_reply": "2022-12-28T15:38:44.674725Z"
        },
        "papermill": {
          "duration": 0.040124,
          "end_time": "2022-12-28T15:38:44.678595",
          "exception": false,
          "start_time": "2022-12-28T15:38:44.638471",
          "status": "completed"
        },
        "tags": [],
        "colab": {
          "base_uri": "https://localhost:8080/",
          "height": 206
        },
        "id": "8fe37be3",
        "outputId": "d5e88e11-78a8-48f2-aa6b-094bf20354e0"
      },
      "outputs": [
        {
          "output_type": "execute_result",
          "data": {
            "text/plain": [
              "   User_ID Product_ID Gender   Age  Occupation City_Category  \\\n",
              "0  1000001  P00069042      F  0-17          10             A   \n",
              "1  1000001  P00248942      F  0-17          10             A   \n",
              "2  1000001  P00087842      F  0-17          10             A   \n",
              "3  1000001  P00085442      F  0-17          10             A   \n",
              "4  1000002  P00285442      M   55+          16             C   \n",
              "\n",
              "  Stay_In_Current_City_Years  Marital_Status  Product_Category_1  \\\n",
              "0                          2               0                   3   \n",
              "1                          2               0                   1   \n",
              "2                          2               0                  12   \n",
              "3                          2               0                  12   \n",
              "4                         4+               0                   8   \n",
              "\n",
              "   Product_Category_2  Product_Category_3  Purchase  \n",
              "0                 NaN                 NaN      8370  \n",
              "1                 6.0                14.0     15200  \n",
              "2                 NaN                 NaN      1422  \n",
              "3                14.0                 NaN      1057  \n",
              "4                 NaN                 NaN      7969  "
            ],
            "text/html": [
              "\n",
              "  <div id=\"df-43e4c0e0-4c03-4495-ba81-ddf0f4cf3f9b\">\n",
              "    <div class=\"colab-df-container\">\n",
              "      <div>\n",
              "<style scoped>\n",
              "    .dataframe tbody tr th:only-of-type {\n",
              "        vertical-align: middle;\n",
              "    }\n",
              "\n",
              "    .dataframe tbody tr th {\n",
              "        vertical-align: top;\n",
              "    }\n",
              "\n",
              "    .dataframe thead th {\n",
              "        text-align: right;\n",
              "    }\n",
              "</style>\n",
              "<table border=\"1\" class=\"dataframe\">\n",
              "  <thead>\n",
              "    <tr style=\"text-align: right;\">\n",
              "      <th></th>\n",
              "      <th>User_ID</th>\n",
              "      <th>Product_ID</th>\n",
              "      <th>Gender</th>\n",
              "      <th>Age</th>\n",
              "      <th>Occupation</th>\n",
              "      <th>City_Category</th>\n",
              "      <th>Stay_In_Current_City_Years</th>\n",
              "      <th>Marital_Status</th>\n",
              "      <th>Product_Category_1</th>\n",
              "      <th>Product_Category_2</th>\n",
              "      <th>Product_Category_3</th>\n",
              "      <th>Purchase</th>\n",
              "    </tr>\n",
              "  </thead>\n",
              "  <tbody>\n",
              "    <tr>\n",
              "      <th>0</th>\n",
              "      <td>1000001</td>\n",
              "      <td>P00069042</td>\n",
              "      <td>F</td>\n",
              "      <td>0-17</td>\n",
              "      <td>10</td>\n",
              "      <td>A</td>\n",
              "      <td>2</td>\n",
              "      <td>0</td>\n",
              "      <td>3</td>\n",
              "      <td>NaN</td>\n",
              "      <td>NaN</td>\n",
              "      <td>8370</td>\n",
              "    </tr>\n",
              "    <tr>\n",
              "      <th>1</th>\n",
              "      <td>1000001</td>\n",
              "      <td>P00248942</td>\n",
              "      <td>F</td>\n",
              "      <td>0-17</td>\n",
              "      <td>10</td>\n",
              "      <td>A</td>\n",
              "      <td>2</td>\n",
              "      <td>0</td>\n",
              "      <td>1</td>\n",
              "      <td>6.0</td>\n",
              "      <td>14.0</td>\n",
              "      <td>15200</td>\n",
              "    </tr>\n",
              "    <tr>\n",
              "      <th>2</th>\n",
              "      <td>1000001</td>\n",
              "      <td>P00087842</td>\n",
              "      <td>F</td>\n",
              "      <td>0-17</td>\n",
              "      <td>10</td>\n",
              "      <td>A</td>\n",
              "      <td>2</td>\n",
              "      <td>0</td>\n",
              "      <td>12</td>\n",
              "      <td>NaN</td>\n",
              "      <td>NaN</td>\n",
              "      <td>1422</td>\n",
              "    </tr>\n",
              "    <tr>\n",
              "      <th>3</th>\n",
              "      <td>1000001</td>\n",
              "      <td>P00085442</td>\n",
              "      <td>F</td>\n",
              "      <td>0-17</td>\n",
              "      <td>10</td>\n",
              "      <td>A</td>\n",
              "      <td>2</td>\n",
              "      <td>0</td>\n",
              "      <td>12</td>\n",
              "      <td>14.0</td>\n",
              "      <td>NaN</td>\n",
              "      <td>1057</td>\n",
              "    </tr>\n",
              "    <tr>\n",
              "      <th>4</th>\n",
              "      <td>1000002</td>\n",
              "      <td>P00285442</td>\n",
              "      <td>M</td>\n",
              "      <td>55+</td>\n",
              "      <td>16</td>\n",
              "      <td>C</td>\n",
              "      <td>4+</td>\n",
              "      <td>0</td>\n",
              "      <td>8</td>\n",
              "      <td>NaN</td>\n",
              "      <td>NaN</td>\n",
              "      <td>7969</td>\n",
              "    </tr>\n",
              "  </tbody>\n",
              "</table>\n",
              "</div>\n",
              "      <button class=\"colab-df-convert\" onclick=\"convertToInteractive('df-43e4c0e0-4c03-4495-ba81-ddf0f4cf3f9b')\"\n",
              "              title=\"Convert this dataframe to an interactive table.\"\n",
              "              style=\"display:none;\">\n",
              "        \n",
              "  <svg xmlns=\"http://www.w3.org/2000/svg\" height=\"24px\"viewBox=\"0 0 24 24\"\n",
              "       width=\"24px\">\n",
              "    <path d=\"M0 0h24v24H0V0z\" fill=\"none\"/>\n",
              "    <path d=\"M18.56 5.44l.94 2.06.94-2.06 2.06-.94-2.06-.94-.94-2.06-.94 2.06-2.06.94zm-11 1L8.5 8.5l.94-2.06 2.06-.94-2.06-.94L8.5 2.5l-.94 2.06-2.06.94zm10 10l.94 2.06.94-2.06 2.06-.94-2.06-.94-.94-2.06-.94 2.06-2.06.94z\"/><path d=\"M17.41 7.96l-1.37-1.37c-.4-.4-.92-.59-1.43-.59-.52 0-1.04.2-1.43.59L10.3 9.45l-7.72 7.72c-.78.78-.78 2.05 0 2.83L4 21.41c.39.39.9.59 1.41.59.51 0 1.02-.2 1.41-.59l7.78-7.78 2.81-2.81c.8-.78.8-2.07 0-2.86zM5.41 20L4 18.59l7.72-7.72 1.47 1.35L5.41 20z\"/>\n",
              "  </svg>\n",
              "      </button>\n",
              "      \n",
              "  <style>\n",
              "    .colab-df-container {\n",
              "      display:flex;\n",
              "      flex-wrap:wrap;\n",
              "      gap: 12px;\n",
              "    }\n",
              "\n",
              "    .colab-df-convert {\n",
              "      background-color: #E8F0FE;\n",
              "      border: none;\n",
              "      border-radius: 50%;\n",
              "      cursor: pointer;\n",
              "      display: none;\n",
              "      fill: #1967D2;\n",
              "      height: 32px;\n",
              "      padding: 0 0 0 0;\n",
              "      width: 32px;\n",
              "    }\n",
              "\n",
              "    .colab-df-convert:hover {\n",
              "      background-color: #E2EBFA;\n",
              "      box-shadow: 0px 1px 2px rgba(60, 64, 67, 0.3), 0px 1px 3px 1px rgba(60, 64, 67, 0.15);\n",
              "      fill: #174EA6;\n",
              "    }\n",
              "\n",
              "    [theme=dark] .colab-df-convert {\n",
              "      background-color: #3B4455;\n",
              "      fill: #D2E3FC;\n",
              "    }\n",
              "\n",
              "    [theme=dark] .colab-df-convert:hover {\n",
              "      background-color: #434B5C;\n",
              "      box-shadow: 0px 1px 3px 1px rgba(0, 0, 0, 0.15);\n",
              "      filter: drop-shadow(0px 1px 2px rgba(0, 0, 0, 0.3));\n",
              "      fill: #FFFFFF;\n",
              "    }\n",
              "  </style>\n",
              "\n",
              "      <script>\n",
              "        const buttonEl =\n",
              "          document.querySelector('#df-43e4c0e0-4c03-4495-ba81-ddf0f4cf3f9b button.colab-df-convert');\n",
              "        buttonEl.style.display =\n",
              "          google.colab.kernel.accessAllowed ? 'block' : 'none';\n",
              "\n",
              "        async function convertToInteractive(key) {\n",
              "          const element = document.querySelector('#df-43e4c0e0-4c03-4495-ba81-ddf0f4cf3f9b');\n",
              "          const dataTable =\n",
              "            await google.colab.kernel.invokeFunction('convertToInteractive',\n",
              "                                                     [key], {});\n",
              "          if (!dataTable) return;\n",
              "\n",
              "          const docLinkHtml = 'Like what you see? Visit the ' +\n",
              "            '<a target=\"_blank\" href=https://colab.research.google.com/notebooks/data_table.ipynb>data table notebook</a>'\n",
              "            + ' to learn more about interactive tables.';\n",
              "          element.innerHTML = '';\n",
              "          dataTable['output_type'] = 'display_data';\n",
              "          await google.colab.output.renderOutput(dataTable, element);\n",
              "          const docLink = document.createElement('div');\n",
              "          docLink.innerHTML = docLinkHtml;\n",
              "          element.appendChild(docLink);\n",
              "        }\n",
              "      </script>\n",
              "    </div>\n",
              "  </div>\n",
              "  "
            ]
          },
          "metadata": {},
          "execution_count": 5
        }
      ],
      "source": [
        "df.head()"
      ]
    },
    {
      "cell_type": "code",
      "execution_count": 6,
      "id": "09fd9dfb",
      "metadata": {
        "execution": {
          "iopub.execute_input": "2022-12-28T15:38:44.704220Z",
          "iopub.status.busy": "2022-12-28T15:38:44.703810Z",
          "iopub.status.idle": "2022-12-28T15:38:44.849556Z",
          "shell.execute_reply": "2022-12-28T15:38:44.847897Z"
        },
        "papermill": {
          "duration": 0.162657,
          "end_time": "2022-12-28T15:38:44.852808",
          "exception": false,
          "start_time": "2022-12-28T15:38:44.690151",
          "status": "completed"
        },
        "tags": [],
        "colab": {
          "base_uri": "https://localhost:8080/"
        },
        "id": "09fd9dfb",
        "outputId": "312acdb6-2962-4d00-baac-b2c56a49068a"
      },
      "outputs": [
        {
          "output_type": "stream",
          "name": "stdout",
          "text": [
            "<class 'pandas.core.frame.DataFrame'>\n",
            "RangeIndex: 550068 entries, 0 to 550067\n",
            "Data columns (total 12 columns):\n",
            " #   Column                      Non-Null Count   Dtype  \n",
            "---  ------                      --------------   -----  \n",
            " 0   User_ID                     550068 non-null  int64  \n",
            " 1   Product_ID                  550068 non-null  object \n",
            " 2   Gender                      550068 non-null  object \n",
            " 3   Age                         550068 non-null  object \n",
            " 4   Occupation                  550068 non-null  int64  \n",
            " 5   City_Category               550068 non-null  object \n",
            " 6   Stay_In_Current_City_Years  550068 non-null  object \n",
            " 7   Marital_Status              550068 non-null  int64  \n",
            " 8   Product_Category_1          550068 non-null  int64  \n",
            " 9   Product_Category_2          376430 non-null  float64\n",
            " 10  Product_Category_3          166821 non-null  float64\n",
            " 11  Purchase                    550068 non-null  int64  \n",
            "dtypes: float64(2), int64(5), object(5)\n",
            "memory usage: 50.4+ MB\n"
          ]
        }
      ],
      "source": [
        "df.info()\n"
      ]
    },
    {
      "cell_type": "code",
      "execution_count": 7,
      "id": "2b892af6",
      "metadata": {
        "execution": {
          "iopub.execute_input": "2022-12-28T15:38:44.878160Z",
          "iopub.status.busy": "2022-12-28T15:38:44.877708Z",
          "iopub.status.idle": "2022-12-28T15:38:45.075042Z",
          "shell.execute_reply": "2022-12-28T15:38:45.073742Z"
        },
        "papermill": {
          "duration": 0.212932,
          "end_time": "2022-12-28T15:38:45.077605",
          "exception": false,
          "start_time": "2022-12-28T15:38:44.864673",
          "status": "completed"
        },
        "tags": [],
        "colab": {
          "base_uri": "https://localhost:8080/",
          "height": 300
        },
        "id": "2b892af6",
        "outputId": "1a3065c8-e2ac-45b0-8e43-9a11b93ab87e"
      },
      "outputs": [
        {
          "output_type": "execute_result",
          "data": {
            "text/plain": [
              "            User_ID     Occupation  Marital_Status  Product_Category_1  \\\n",
              "count  5.500680e+05  550068.000000   550068.000000       550068.000000   \n",
              "mean   1.003029e+06       8.076707        0.409653            5.404270   \n",
              "std    1.727592e+03       6.522660        0.491770            3.936211   \n",
              "min    1.000001e+06       0.000000        0.000000            1.000000   \n",
              "25%    1.001516e+06       2.000000        0.000000            1.000000   \n",
              "50%    1.003077e+06       7.000000        0.000000            5.000000   \n",
              "75%    1.004478e+06      14.000000        1.000000            8.000000   \n",
              "max    1.006040e+06      20.000000        1.000000           20.000000   \n",
              "\n",
              "       Product_Category_2  Product_Category_3       Purchase  \n",
              "count       376430.000000       166821.000000  550068.000000  \n",
              "mean             9.842329           12.668243    9263.968713  \n",
              "std              5.086590            4.125338    5023.065394  \n",
              "min              2.000000            3.000000      12.000000  \n",
              "25%              5.000000            9.000000    5823.000000  \n",
              "50%              9.000000           14.000000    8047.000000  \n",
              "75%             15.000000           16.000000   12054.000000  \n",
              "max             18.000000           18.000000   23961.000000  "
            ],
            "text/html": [
              "\n",
              "  <div id=\"df-7720a587-8fbc-4823-bd9a-6f0cbc328100\">\n",
              "    <div class=\"colab-df-container\">\n",
              "      <div>\n",
              "<style scoped>\n",
              "    .dataframe tbody tr th:only-of-type {\n",
              "        vertical-align: middle;\n",
              "    }\n",
              "\n",
              "    .dataframe tbody tr th {\n",
              "        vertical-align: top;\n",
              "    }\n",
              "\n",
              "    .dataframe thead th {\n",
              "        text-align: right;\n",
              "    }\n",
              "</style>\n",
              "<table border=\"1\" class=\"dataframe\">\n",
              "  <thead>\n",
              "    <tr style=\"text-align: right;\">\n",
              "      <th></th>\n",
              "      <th>User_ID</th>\n",
              "      <th>Occupation</th>\n",
              "      <th>Marital_Status</th>\n",
              "      <th>Product_Category_1</th>\n",
              "      <th>Product_Category_2</th>\n",
              "      <th>Product_Category_3</th>\n",
              "      <th>Purchase</th>\n",
              "    </tr>\n",
              "  </thead>\n",
              "  <tbody>\n",
              "    <tr>\n",
              "      <th>count</th>\n",
              "      <td>5.500680e+05</td>\n",
              "      <td>550068.000000</td>\n",
              "      <td>550068.000000</td>\n",
              "      <td>550068.000000</td>\n",
              "      <td>376430.000000</td>\n",
              "      <td>166821.000000</td>\n",
              "      <td>550068.000000</td>\n",
              "    </tr>\n",
              "    <tr>\n",
              "      <th>mean</th>\n",
              "      <td>1.003029e+06</td>\n",
              "      <td>8.076707</td>\n",
              "      <td>0.409653</td>\n",
              "      <td>5.404270</td>\n",
              "      <td>9.842329</td>\n",
              "      <td>12.668243</td>\n",
              "      <td>9263.968713</td>\n",
              "    </tr>\n",
              "    <tr>\n",
              "      <th>std</th>\n",
              "      <td>1.727592e+03</td>\n",
              "      <td>6.522660</td>\n",
              "      <td>0.491770</td>\n",
              "      <td>3.936211</td>\n",
              "      <td>5.086590</td>\n",
              "      <td>4.125338</td>\n",
              "      <td>5023.065394</td>\n",
              "    </tr>\n",
              "    <tr>\n",
              "      <th>min</th>\n",
              "      <td>1.000001e+06</td>\n",
              "      <td>0.000000</td>\n",
              "      <td>0.000000</td>\n",
              "      <td>1.000000</td>\n",
              "      <td>2.000000</td>\n",
              "      <td>3.000000</td>\n",
              "      <td>12.000000</td>\n",
              "    </tr>\n",
              "    <tr>\n",
              "      <th>25%</th>\n",
              "      <td>1.001516e+06</td>\n",
              "      <td>2.000000</td>\n",
              "      <td>0.000000</td>\n",
              "      <td>1.000000</td>\n",
              "      <td>5.000000</td>\n",
              "      <td>9.000000</td>\n",
              "      <td>5823.000000</td>\n",
              "    </tr>\n",
              "    <tr>\n",
              "      <th>50%</th>\n",
              "      <td>1.003077e+06</td>\n",
              "      <td>7.000000</td>\n",
              "      <td>0.000000</td>\n",
              "      <td>5.000000</td>\n",
              "      <td>9.000000</td>\n",
              "      <td>14.000000</td>\n",
              "      <td>8047.000000</td>\n",
              "    </tr>\n",
              "    <tr>\n",
              "      <th>75%</th>\n",
              "      <td>1.004478e+06</td>\n",
              "      <td>14.000000</td>\n",
              "      <td>1.000000</td>\n",
              "      <td>8.000000</td>\n",
              "      <td>15.000000</td>\n",
              "      <td>16.000000</td>\n",
              "      <td>12054.000000</td>\n",
              "    </tr>\n",
              "    <tr>\n",
              "      <th>max</th>\n",
              "      <td>1.006040e+06</td>\n",
              "      <td>20.000000</td>\n",
              "      <td>1.000000</td>\n",
              "      <td>20.000000</td>\n",
              "      <td>18.000000</td>\n",
              "      <td>18.000000</td>\n",
              "      <td>23961.000000</td>\n",
              "    </tr>\n",
              "  </tbody>\n",
              "</table>\n",
              "</div>\n",
              "      <button class=\"colab-df-convert\" onclick=\"convertToInteractive('df-7720a587-8fbc-4823-bd9a-6f0cbc328100')\"\n",
              "              title=\"Convert this dataframe to an interactive table.\"\n",
              "              style=\"display:none;\">\n",
              "        \n",
              "  <svg xmlns=\"http://www.w3.org/2000/svg\" height=\"24px\"viewBox=\"0 0 24 24\"\n",
              "       width=\"24px\">\n",
              "    <path d=\"M0 0h24v24H0V0z\" fill=\"none\"/>\n",
              "    <path d=\"M18.56 5.44l.94 2.06.94-2.06 2.06-.94-2.06-.94-.94-2.06-.94 2.06-2.06.94zm-11 1L8.5 8.5l.94-2.06 2.06-.94-2.06-.94L8.5 2.5l-.94 2.06-2.06.94zm10 10l.94 2.06.94-2.06 2.06-.94-2.06-.94-.94-2.06-.94 2.06-2.06.94z\"/><path d=\"M17.41 7.96l-1.37-1.37c-.4-.4-.92-.59-1.43-.59-.52 0-1.04.2-1.43.59L10.3 9.45l-7.72 7.72c-.78.78-.78 2.05 0 2.83L4 21.41c.39.39.9.59 1.41.59.51 0 1.02-.2 1.41-.59l7.78-7.78 2.81-2.81c.8-.78.8-2.07 0-2.86zM5.41 20L4 18.59l7.72-7.72 1.47 1.35L5.41 20z\"/>\n",
              "  </svg>\n",
              "      </button>\n",
              "      \n",
              "  <style>\n",
              "    .colab-df-container {\n",
              "      display:flex;\n",
              "      flex-wrap:wrap;\n",
              "      gap: 12px;\n",
              "    }\n",
              "\n",
              "    .colab-df-convert {\n",
              "      background-color: #E8F0FE;\n",
              "      border: none;\n",
              "      border-radius: 50%;\n",
              "      cursor: pointer;\n",
              "      display: none;\n",
              "      fill: #1967D2;\n",
              "      height: 32px;\n",
              "      padding: 0 0 0 0;\n",
              "      width: 32px;\n",
              "    }\n",
              "\n",
              "    .colab-df-convert:hover {\n",
              "      background-color: #E2EBFA;\n",
              "      box-shadow: 0px 1px 2px rgba(60, 64, 67, 0.3), 0px 1px 3px 1px rgba(60, 64, 67, 0.15);\n",
              "      fill: #174EA6;\n",
              "    }\n",
              "\n",
              "    [theme=dark] .colab-df-convert {\n",
              "      background-color: #3B4455;\n",
              "      fill: #D2E3FC;\n",
              "    }\n",
              "\n",
              "    [theme=dark] .colab-df-convert:hover {\n",
              "      background-color: #434B5C;\n",
              "      box-shadow: 0px 1px 3px 1px rgba(0, 0, 0, 0.15);\n",
              "      filter: drop-shadow(0px 1px 2px rgba(0, 0, 0, 0.3));\n",
              "      fill: #FFFFFF;\n",
              "    }\n",
              "  </style>\n",
              "\n",
              "      <script>\n",
              "        const buttonEl =\n",
              "          document.querySelector('#df-7720a587-8fbc-4823-bd9a-6f0cbc328100 button.colab-df-convert');\n",
              "        buttonEl.style.display =\n",
              "          google.colab.kernel.accessAllowed ? 'block' : 'none';\n",
              "\n",
              "        async function convertToInteractive(key) {\n",
              "          const element = document.querySelector('#df-7720a587-8fbc-4823-bd9a-6f0cbc328100');\n",
              "          const dataTable =\n",
              "            await google.colab.kernel.invokeFunction('convertToInteractive',\n",
              "                                                     [key], {});\n",
              "          if (!dataTable) return;\n",
              "\n",
              "          const docLinkHtml = 'Like what you see? Visit the ' +\n",
              "            '<a target=\"_blank\" href=https://colab.research.google.com/notebooks/data_table.ipynb>data table notebook</a>'\n",
              "            + ' to learn more about interactive tables.';\n",
              "          element.innerHTML = '';\n",
              "          dataTable['output_type'] = 'display_data';\n",
              "          await google.colab.output.renderOutput(dataTable, element);\n",
              "          const docLink = document.createElement('div');\n",
              "          docLink.innerHTML = docLinkHtml;\n",
              "          element.appendChild(docLink);\n",
              "        }\n",
              "      </script>\n",
              "    </div>\n",
              "  </div>\n",
              "  "
            ]
          },
          "metadata": {},
          "execution_count": 7
        }
      ],
      "source": [
        "df.describe()"
      ]
    },
    {
      "cell_type": "code",
      "execution_count": 8,
      "id": "5079f5c3",
      "metadata": {
        "execution": {
          "iopub.execute_input": "2022-12-28T15:38:45.103677Z",
          "iopub.status.busy": "2022-12-28T15:38:45.103248Z",
          "iopub.status.idle": "2022-12-28T15:38:45.237661Z",
          "shell.execute_reply": "2022-12-28T15:38:45.236533Z"
        },
        "papermill": {
          "duration": 0.150905,
          "end_time": "2022-12-28T15:38:45.240381",
          "exception": false,
          "start_time": "2022-12-28T15:38:45.089476",
          "status": "completed"
        },
        "tags": [],
        "colab": {
          "base_uri": "https://localhost:8080/"
        },
        "id": "5079f5c3",
        "outputId": "cc5399f8-0038-448f-ed05-50f42a4fe4ca"
      },
      "outputs": [
        {
          "output_type": "execute_result",
          "data": {
            "text/plain": [
              "User_ID                            0\n",
              "Product_ID                         0\n",
              "Gender                             0\n",
              "Age                                0\n",
              "Occupation                         0\n",
              "City_Category                      0\n",
              "Stay_In_Current_City_Years         0\n",
              "Marital_Status                     0\n",
              "Product_Category_1                 0\n",
              "Product_Category_2            173638\n",
              "Product_Category_3            383247\n",
              "Purchase                           0\n",
              "dtype: int64"
            ]
          },
          "metadata": {},
          "execution_count": 8
        }
      ],
      "source": [
        "df.apply(pd.isnull).sum()"
      ]
    },
    {
      "cell_type": "code",
      "execution_count": 9,
      "id": "1aba39a0",
      "metadata": {
        "execution": {
          "iopub.execute_input": "2022-12-28T15:38:45.266276Z",
          "iopub.status.busy": "2022-12-28T15:38:45.265867Z",
          "iopub.status.idle": "2022-12-28T15:38:45.279125Z",
          "shell.execute_reply": "2022-12-28T15:38:45.277787Z"
        },
        "papermill": {
          "duration": 0.029423,
          "end_time": "2022-12-28T15:38:45.281758",
          "exception": false,
          "start_time": "2022-12-28T15:38:45.252335",
          "status": "completed"
        },
        "tags": [],
        "id": "1aba39a0"
      },
      "outputs": [],
      "source": [
        "# Filling in Nan's with zero!!\n",
        "df['Product_Category_1'].fillna(0,inplace=True)\n",
        "df['Product_Category_2'].fillna(0,inplace=True)\n",
        "df['Product_Category_3'].fillna(0,inplace=True)"
      ]
    },
    {
      "cell_type": "markdown",
      "id": "d30dd35e",
      "metadata": {
        "papermill": {
          "duration": 0.011595,
          "end_time": "2022-12-28T15:38:45.305321",
          "exception": false,
          "start_time": "2022-12-28T15:38:45.293726",
          "status": "completed"
        },
        "tags": [],
        "id": "d30dd35e"
      },
      "source": [
        "## Purchase according to gender"
      ]
    },
    {
      "cell_type": "code",
      "execution_count": 10,
      "id": "f1f3edc8",
      "metadata": {
        "execution": {
          "iopub.execute_input": "2022-12-28T15:38:45.332082Z",
          "iopub.status.busy": "2022-12-28T15:38:45.331221Z",
          "iopub.status.idle": "2022-12-28T15:38:45.449665Z",
          "shell.execute_reply": "2022-12-28T15:38:45.448452Z"
        },
        "papermill": {
          "duration": 0.1352,
          "end_time": "2022-12-28T15:38:45.452463",
          "exception": false,
          "start_time": "2022-12-28T15:38:45.317263",
          "status": "completed"
        },
        "tags": [],
        "id": "f1f3edc8"
      },
      "outputs": [],
      "source": [
        "total_female_purchase=df.loc[df['Gender']=='F','Purchase'].sum()\n",
        "total_male_purchase=df.loc[df['Gender']=='M','Purchase'].sum()\n",
        "gen=list(df.Gender.unique())\n",
        "purchase=[total_female_purchase,total_male_purchase]"
      ]
    },
    {
      "cell_type": "code",
      "execution_count": 11,
      "id": "85ac73eb",
      "metadata": {
        "execution": {
          "iopub.execute_input": "2022-12-28T15:38:45.479079Z",
          "iopub.status.busy": "2022-12-28T15:38:45.477757Z",
          "iopub.status.idle": "2022-12-28T15:38:45.685661Z",
          "shell.execute_reply": "2022-12-28T15:38:45.684278Z"
        },
        "papermill": {
          "duration": 0.224093,
          "end_time": "2022-12-28T15:38:45.688472",
          "exception": false,
          "start_time": "2022-12-28T15:38:45.464379",
          "status": "completed"
        },
        "tags": [],
        "colab": {
          "base_uri": "https://localhost:8080/",
          "height": 276
        },
        "id": "85ac73eb",
        "outputId": "fa86d165-bd91-4519-ad9c-594307863ac1"
      },
      "outputs": [
        {
          "output_type": "display_data",
          "data": {
            "text/plain": [
              "<Figure size 432x288 with 1 Axes>"
            ],
            "image/png": "[encoded data removed]"
          },
          "metadata": {
            "needs_background": "light"
          }
        }
      ],
      "source": [
        "plt.bar(gen,purchase)\n",
        "plt.show()"
      ]
    },
    {
      "cell_type": "markdown",
      "id": "1c110baa",
      "metadata": {
        "papermill": {
          "duration": 0.011835,
          "end_time": "2022-12-28T15:38:45.712770",
          "exception": false,
          "start_time": "2022-12-28T15:38:45.700935",
          "status": "completed"
        },
        "tags": [],
        "id": "1c110baa"
      },
      "source": [
        "## Purchase according to Marital Status"
      ]
    },
    {
      "cell_type": "code",
      "execution_count": 12,
      "id": "61fa569f",
      "metadata": {
        "execution": {
          "iopub.execute_input": "2022-12-28T15:38:45.739474Z",
          "iopub.status.busy": "2022-12-28T15:38:45.739056Z",
          "iopub.status.idle": "2022-12-28T15:38:45.750836Z",
          "shell.execute_reply": "2022-12-28T15:38:45.749768Z"
        },
        "papermill": {
          "duration": 0.028373,
          "end_time": "2022-12-28T15:38:45.753403",
          "exception": false,
          "start_time": "2022-12-28T15:38:45.725030",
          "status": "completed"
        },
        "tags": [],
        "colab": {
          "base_uri": "https://localhost:8080/"
        },
        "id": "61fa569f",
        "outputId": "cb82049a-1d09-4862-ed5a-a0711ea3bf80"
      },
      "outputs": [
        {
          "output_type": "execute_result",
          "data": {
            "text/plain": [
              "array(['0', '1'], dtype='<U21')"
            ]
          },
          "metadata": {},
          "execution_count": 12
        }
      ],
      "source": [
        "df['Marital_Status'].unique().astype(str)\n"
      ]
    },
    {
      "cell_type": "code",
      "execution_count": 13,
      "id": "b6fb5916",
      "metadata": {
        "execution": {
          "iopub.execute_input": "2022-12-28T15:38:45.779748Z",
          "iopub.status.busy": "2022-12-28T15:38:45.779322Z",
          "iopub.status.idle": "2022-12-28T15:38:45.801359Z",
          "shell.execute_reply": "2022-12-28T15:38:45.799961Z"
        },
        "papermill": {
          "duration": 0.038593,
          "end_time": "2022-12-28T15:38:45.804285",
          "exception": false,
          "start_time": "2022-12-28T15:38:45.765692",
          "status": "completed"
        },
        "tags": [],
        "id": "b6fb5916"
      },
      "outputs": [],
      "source": [
        "# assuming 0 as unmarried \n",
        "# and 1 as married \n",
        "total_purchase_unmarried=df.loc[df['Marital_Status']==0,'Purchase'].sum()\n",
        "total_purchase_married=df.loc[df['Marital_Status']==1,'Purchase'].sum()\n",
        "stat=list(df['Marital_Status'].unique().astype(str))\n",
        "purchase1=[total_purchase_unmarried,total_purchase_married]"
      ]
    },
    {
      "cell_type": "code",
      "execution_count": 14,
      "id": "2598c32e",
      "metadata": {
        "execution": {
          "iopub.execute_input": "2022-12-28T15:38:45.831430Z",
          "iopub.status.busy": "2022-12-28T15:38:45.831019Z",
          "iopub.status.idle": "2022-12-28T15:38:46.001448Z",
          "shell.execute_reply": "2022-12-28T15:38:46.000133Z"
        },
        "papermill": {
          "duration": 0.186636,
          "end_time": "2022-12-28T15:38:46.003973",
          "exception": false,
          "start_time": "2022-12-28T15:38:45.817337",
          "status": "completed"
        },
        "tags": [],
        "colab": {
          "base_uri": "https://localhost:8080/",
          "height": 276
        },
        "id": "2598c32e",
        "outputId": "06083f83-9eeb-4dd9-a4a1-2b9f3e544895"
      },
      "outputs": [
        {
          "output_type": "display_data",
          "data": {
            "text/plain": [
              "<Figure size 432x288 with 1 Axes>"
            ],
            "image/png": "[encoded data removed]"
          },
          "metadata": {
            "needs_background": "light"
          }
        }
      ],
      "source": [
        "plt.bar(stat,purchase1)\n",
        "plt.show()"
      ]
    },
    {
      "cell_type": "markdown",
      "id": "952fc957",
      "metadata": {
        "papermill": {
          "duration": 0.011983,
          "end_time": "2022-12-28T15:38:46.028367",
          "exception": false,
          "start_time": "2022-12-28T15:38:46.016384",
          "status": "completed"
        },
        "tags": [],
        "id": "952fc957"
      },
      "source": [
        "## Analysis by Occupation"
      ]
    },
    {
      "cell_type": "code",
      "execution_count": 15,
      "id": "e3c43bf6",
      "metadata": {
        "execution": {
          "iopub.execute_input": "2022-12-28T15:38:46.055286Z",
          "iopub.status.busy": "2022-12-28T15:38:46.054274Z",
          "iopub.status.idle": "2022-12-28T15:38:46.408915Z",
          "shell.execute_reply": "2022-12-28T15:38:46.407575Z"
        },
        "papermill": {
          "duration": 0.371077,
          "end_time": "2022-12-28T15:38:46.411726",
          "exception": false,
          "start_time": "2022-12-28T15:38:46.040649",
          "status": "completed"
        },
        "tags": [],
        "colab": {
          "base_uri": "https://localhost:8080/",
          "height": 465
        },
        "id": "e3c43bf6",
        "outputId": "8c081c6a-099d-4ac7-980a-ee854ed68c5e"
      },
      "outputs": [
        {
          "output_type": "display_data",
          "data": {
            "text/plain": [
              "<Figure size 720x468 with 1 Axes>"
            ],
            "image/png": "[encoded data removed]"
          },
          "metadata": {
            "needs_background": "light"
          }
        }
      ],
      "source": [
        "df_occupation=df[['Occupation','Purchase']].groupby('Occupation').count()\n",
        "df_occupation=df_occupation.sort_values(by='Occupation',ascending=True)\n",
        "df_occupation.plot(kind='bar',subplots=True,figsize=(10,6.5),title='Different Occupation count')\n",
        "plt.show()"
      ]
    },
    {
      "cell_type": "markdown",
      "id": "862500c7",
      "metadata": {
        "papermill": {
          "duration": 0.012287,
          "end_time": "2022-12-28T15:38:46.437413",
          "exception": false,
          "start_time": "2022-12-28T15:38:46.425126",
          "status": "completed"
        },
        "tags": [],
        "id": "862500c7"
      },
      "source": [
        "## Purchase according to occupation"
      ]
    },
    {
      "cell_type": "code",
      "execution_count": 16,
      "id": "bb84c327",
      "metadata": {
        "execution": {
          "iopub.execute_input": "2022-12-28T15:38:46.464422Z",
          "iopub.status.busy": "2022-12-28T15:38:46.463996Z",
          "iopub.status.idle": "2022-12-28T15:38:46.813967Z",
          "shell.execute_reply": "2022-12-28T15:38:46.812707Z"
        },
        "papermill": {
          "duration": 0.36683,
          "end_time": "2022-12-28T15:38:46.816769",
          "exception": false,
          "start_time": "2022-12-28T15:38:46.449939",
          "status": "completed"
        },
        "tags": [],
        "colab": {
          "base_uri": "https://localhost:8080/",
          "height": 553
        },
        "id": "bb84c327",
        "outputId": "7a4c7f3f-3d7f-4301-c87d-6bb1d2795b6e"
      },
      "outputs": [
        {
          "output_type": "display_data",
          "data": {
            "text/plain": [
              "<Figure size 720x576 with 1 Axes>"
            ],
            "image/png": "[encoded data removed]"
          },
          "metadata": {
            "needs_background": "light"
          }
        }
      ],
      "source": [
        "df_occupation1=df[['Occupation','Purchase']].groupby('Occupation').sum()\n",
        "df_occupation1=df_occupation1.sort_values(by='Purchase',ascending=False)\n",
        "df_occupation1.plot(kind='barh',figsize=(10,8),subplots=True,title='Purchase by different occupation')\n",
        "plt.show()"
      ]
    },
    {
      "cell_type": "markdown",
      "id": "21ec9f4d",
      "metadata": {
        "papermill": {
          "duration": 0.013152,
          "end_time": "2022-12-28T15:38:46.844091",
          "exception": false,
          "start_time": "2022-12-28T15:38:46.830939",
          "status": "completed"
        },
        "tags": [],
        "id": "21ec9f4d"
      },
      "source": [
        "## Purchase by City"
      ]
    },
    {
      "cell_type": "code",
      "execution_count": 17,
      "id": "fc74c72d",
      "metadata": {
        "execution": {
          "iopub.execute_input": "2022-12-28T15:38:46.872660Z",
          "iopub.status.busy": "2022-12-28T15:38:46.872179Z",
          "iopub.status.idle": "2022-12-28T15:38:47.176156Z",
          "shell.execute_reply": "2022-12-28T15:38:47.174910Z"
        },
        "papermill": {
          "duration": 0.321802,
          "end_time": "2022-12-28T15:38:47.178980",
          "exception": false,
          "start_time": "2022-12-28T15:38:46.857178",
          "status": "completed"
        },
        "tags": [],
        "colab": {
          "base_uri": "https://localhost:8080/",
          "height": 523
        },
        "id": "fc74c72d",
        "outputId": "b9639d2e-9fa6-4cd1-eae1-e0b92736e189"
      },
      "outputs": [
        {
          "output_type": "display_data",
          "data": {
            "text/plain": [
              "<Figure size 720x576 with 1 Axes>"
            ],
            "image/png": "[encoded data removed]"
          },
          "metadata": {}
        }
      ],
      "source": [
        "df_city=df[['City_Category','Purchase']].groupby('City_Category').sum()\n",
        "df_city=df_city.sort_values(by='Purchase',ascending=True)\n",
        "\n",
        "df_city.plot(kind='pie',subplots=True,figsize=(10,8),title='Purchase According to City')\n",
        "plt.show()"
      ]
    },
    {
      "cell_type": "markdown",
      "id": "3fb3b77c",
      "metadata": {
        "papermill": {
          "duration": 0.013012,
          "end_time": "2022-12-28T15:38:47.205415",
          "exception": false,
          "start_time": "2022-12-28T15:38:47.192403",
          "status": "completed"
        },
        "tags": [],
        "id": "3fb3b77c"
      },
      "source": [
        "## Purchase according to age group"
      ]
    },
    {
      "cell_type": "code",
      "execution_count": 18,
      "id": "2b216626",
      "metadata": {
        "execution": {
          "iopub.execute_input": "2022-12-28T15:38:47.236603Z",
          "iopub.status.busy": "2022-12-28T15:38:47.236115Z",
          "iopub.status.idle": "2022-12-28T15:38:47.301988Z",
          "shell.execute_reply": "2022-12-28T15:38:47.300722Z"
        },
        "papermill": {
          "duration": 0.085691,
          "end_time": "2022-12-28T15:38:47.305047",
          "exception": false,
          "start_time": "2022-12-28T15:38:47.219356",
          "status": "completed"
        },
        "tags": [],
        "id": "2b216626"
      },
      "outputs": [],
      "source": [
        "df_age_group=df[['Age','Purchase']].groupby('Age').sum()\n",
        "df_age_group=df_age_group.sort_values(by='Age',ascending=True)"
      ]
    },
    {
      "cell_type": "code",
      "execution_count": 19,
      "id": "645be18c",
      "metadata": {
        "execution": {
          "iopub.execute_input": "2022-12-28T15:38:47.333618Z",
          "iopub.status.busy": "2022-12-28T15:38:47.333206Z",
          "iopub.status.idle": "2022-12-28T15:38:47.589545Z",
          "shell.execute_reply": "2022-12-28T15:38:47.588240Z"
        },
        "papermill": {
          "duration": 0.273901,
          "end_time": "2022-12-28T15:38:47.592312",
          "exception": false,
          "start_time": "2022-12-28T15:38:47.318411",
          "status": "completed"
        },
        "tags": [],
        "colab": {
          "base_uri": "https://localhost:8080/",
          "height": 574
        },
        "id": "645be18c",
        "outputId": "5de66daf-f82e-45e9-b7ae-4d59427de3dc"
      },
      "outputs": [
        {
          "output_type": "display_data",
          "data": {
            "text/plain": [
              "<Figure size 720x576 with 1 Axes>"
            ],
            "image/png": "[encoded data removed]"
          },
          "metadata": {
            "needs_background": "light"
          }
        }
      ],
      "source": [
        "df_age_group.plot(kind='bar',subplots=True,figsize=(10,8),title='Purchase according to age group')\n",
        "plt.show()"
      ]
    },
    {
      "cell_type": "markdown",
      "id": "b987d1b7",
      "metadata": {
        "papermill": {
          "duration": 0.013549,
          "end_time": "2022-12-28T15:38:47.620332",
          "exception": false,
          "start_time": "2022-12-28T15:38:47.606783",
          "status": "completed"
        },
        "tags": [],
        "id": "b987d1b7"
      },
      "source": [
        "## Product Category analysis"
      ]
    },
    {
      "cell_type": "code",
      "execution_count": 20,
      "id": "30ff8d8f",
      "metadata": {
        "execution": {
          "iopub.execute_input": "2022-12-28T15:38:47.649839Z",
          "iopub.status.busy": "2022-12-28T15:38:47.649432Z",
          "iopub.status.idle": "2022-12-28T15:38:47.674453Z",
          "shell.execute_reply": "2022-12-28T15:38:47.672895Z"
        },
        "papermill": {
          "duration": 0.042748,
          "end_time": "2022-12-28T15:38:47.677264",
          "exception": false,
          "start_time": "2022-12-28T15:38:47.634516",
          "status": "completed"
        },
        "tags": [],
        "id": "30ff8d8f"
      },
      "outputs": [],
      "source": [
        "## Product Category 1\n",
        "df_product1=df[['Product_Category_1','Purchase']].groupby('Product_Category_1').sum()\n",
        "df_product1=df_product1.sort_values(by='Purchase',ascending=False)"
      ]
    },
    {
      "cell_type": "code",
      "execution_count": 21,
      "id": "c0a4dad8",
      "metadata": {
        "execution": {
          "iopub.execute_input": "2022-12-28T15:38:47.706288Z",
          "iopub.status.busy": "2022-12-28T15:38:47.705782Z",
          "iopub.status.idle": "2022-12-28T15:38:48.089196Z",
          "shell.execute_reply": "2022-12-28T15:38:48.087747Z"
        },
        "papermill": {
          "duration": 0.401306,
          "end_time": "2022-12-28T15:38:48.092250",
          "exception": false,
          "start_time": "2022-12-28T15:38:47.690944",
          "status": "completed"
        },
        "tags": [],
        "colab": {
          "base_uri": "https://localhost:8080/",
          "height": 588
        },
        "id": "c0a4dad8",
        "outputId": "a65d5648-60d0-4f61-a2a5-726a7283efb6"
      },
      "outputs": [
        {
          "output_type": "execute_result",
          "data": {
            "text/plain": [
              "array([<matplotlib.axes._subplots.AxesSubplot object at 0x7f14eea1f910>],\n",
              "      dtype=object)"
            ]
          },
          "metadata": {},
          "execution_count": 21
        },
        {
          "output_type": "display_data",
          "data": {
            "text/plain": [
              "<Figure size 720x576 with 1 Axes>"
            ],
            "image/png": "[encoded data removed]"
          },
          "metadata": {
            "needs_background": "light"
          }
        }
      ],
      "source": [
        "df_product1.plot(kind='barh',figsize=(10,8),subplots=True,title='Product Category 1 vs Purchase')"
      ]
    },
    {
      "cell_type": "code",
      "execution_count": 22,
      "id": "a5c451d4",
      "metadata": {
        "execution": {
          "iopub.execute_input": "2022-12-28T15:38:48.123766Z",
          "iopub.status.busy": "2022-12-28T15:38:48.123309Z",
          "iopub.status.idle": "2022-12-28T15:38:48.510169Z",
          "shell.execute_reply": "2022-12-28T15:38:48.508909Z"
        },
        "papermill": {
          "duration": 0.406126,
          "end_time": "2022-12-28T15:38:48.513049",
          "exception": false,
          "start_time": "2022-12-28T15:38:48.106923",
          "status": "completed"
        },
        "tags": [],
        "colab": {
          "base_uri": "https://localhost:8080/",
          "height": 588
        },
        "id": "a5c451d4",
        "outputId": "9364f0e7-cd10-4a21-ff68-b53586fbceca"
      },
      "outputs": [
        {
          "output_type": "execute_result",
          "data": {
            "text/plain": [
              "array([<matplotlib.axes._subplots.AxesSubplot object at 0x7f14eea00e20>],\n",
              "      dtype=object)"
            ]
          },
          "metadata": {},
          "execution_count": 22
        },
        {
          "output_type": "display_data",
          "data": {
            "text/plain": [
              "<Figure size 720x576 with 1 Axes>"
            ],
            "image/png": "[encoded data removed]"
          },
          "metadata": {
            "needs_background": "light"
          }
        }
      ],
      "source": [
        "# Product Category 2\n",
        "df_product2=df[['Product_Category_2','Purchase']].groupby('Product_Category_2').sum()\n",
        "df_product2=df_product2.sort_values(by='Purchase',ascending=False)\n",
        "df_product2.plot(kind='barh',figsize=(10,8),subplots=True,title='Product Category 2 vs Purchase')"
      ]
    },
    {
      "cell_type": "code",
      "execution_count": 24,
      "id": "52f8ef33",
      "metadata": {
        "execution": {
          "iopub.execute_input": "2022-12-28T15:38:48.544329Z",
          "iopub.status.busy": "2022-12-28T15:38:48.543927Z",
          "iopub.status.idle": "2022-12-28T15:38:48.906403Z",
          "shell.execute_reply": "2022-12-28T15:38:48.904919Z"
        },
        "papermill": {
          "duration": 0.381794,
          "end_time": "2022-12-28T15:38:48.909385",
          "exception": false,
          "start_time": "2022-12-28T15:38:48.527591",
          "status": "completed"
        },
        "tags": [],
        "colab": {
          "base_uri": "https://localhost:8080/",
          "height": 588
        },
        "id": "52f8ef33",
        "outputId": "f946c218-a81c-4fbb-f516-7fbed61a0d09"
      },
      "outputs": [
        {
          "output_type": "execute_result",
          "data": {
            "text/plain": [
              "array([<matplotlib.axes._subplots.AxesSubplot object at 0x7f14ee80b460>],\n",
              "      dtype=object)"
            ]
          },
          "metadata": {},
          "execution_count": 24
        },
        {
          "output_type": "display_data",
          "data": {
            "text/plain": [
              "<Figure size 720x576 with 1 Axes>"
            ],
            "image/png": "[encoded data removed]"
          },
          "metadata": {
            "needs_background": "light"
          }
        }
      ],
      "source": [
        "# Product Category 3\n",
        "df_product3=df[['Product_Category_3','Purchase']].groupby('Product_Category_3').sum()\n",
        "df_product3=df_product3.sort_values(by='Purchase',ascending=False)\n",
        "df_product3.plot(kind='barh',figsize=(10,8),subplots=True,title='Product Category 3 vs Purchase')"
      ]
    },
    {
      "cell_type": "markdown",
      "id": "a9188203",
      "metadata": {
        "papermill": {
          "duration": 0.014751,
          "end_time": "2022-12-28T15:38:48.940016",
          "exception": false,
          "start_time": "2022-12-28T15:38:48.925265",
          "status": "completed"
        },
        "tags": [],
        "id": "a9188203"
      },
      "source": [
        "## Top Products by Purchase"
      ]
    },
    {
      "cell_type": "code",
      "execution_count": 25,
      "id": "1a29e9fb",
      "metadata": {
        "execution": {
          "iopub.execute_input": "2022-12-28T15:38:48.972012Z",
          "iopub.status.busy": "2022-12-28T15:38:48.971605Z",
          "iopub.status.idle": "2022-12-28T15:38:49.241735Z",
          "shell.execute_reply": "2022-12-28T15:38:49.240074Z"
        },
        "papermill": {
          "duration": 0.28959,
          "end_time": "2022-12-28T15:38:49.244734",
          "exception": false,
          "start_time": "2022-12-28T15:38:48.955144",
          "status": "completed"
        },
        "tags": [],
        "colab": {
          "base_uri": "https://localhost:8080/",
          "height": 558
        },
        "id": "1a29e9fb",
        "outputId": "8bd814ad-d726-4765-9e83-983333db8af0"
      },
      "outputs": [
        {
          "output_type": "execute_result",
          "data": {
            "text/plain": [
              "array([<matplotlib.axes._subplots.AxesSubplot object at 0x7f14ee78a5e0>],\n",
              "      dtype=object)"
            ]
          },
          "metadata": {},
          "execution_count": 25
        },
        {
          "output_type": "display_data",
          "data": {
            "text/plain": [
              "<Figure size 720x576 with 1 Axes>"
            ],
            "image/png": "[encoded data removed]"
          },
          "metadata": {}
        }
      ],
      "source": [
        "top_product=df[['Product_ID','Purchase']].groupby('Product_ID').sum()\n",
        "top_product=top_product.sort_values(by='Purchase',ascending=False)\n",
        "top_product=top_product.head(6)\n",
        "top_product.plot(kind='pie',subplots=True,title='Top Products by Purchase',legend=False,figsize=(10,8),ylabel=' ',autopct='%1.3f%%')"
      ]
    },
    {
      "cell_type": "markdown",
      "id": "5ef7a3f0",
      "metadata": {
        "papermill": {
          "duration": 0.015608,
          "end_time": "2022-12-28T15:38:49.276831",
          "exception": false,
          "start_time": "2022-12-28T15:38:49.261223",
          "status": "completed"
        },
        "tags": [],
        "id": "5ef7a3f0"
      },
      "source": [
        "## Mapping into numerical data"
      ]
    },
    {
      "cell_type": "code",
      "execution_count": 26,
      "id": "bd68284c",
      "metadata": {
        "execution": {
          "iopub.execute_input": "2022-12-28T15:38:49.310417Z",
          "iopub.status.busy": "2022-12-28T15:38:49.310017Z",
          "iopub.status.idle": "2022-12-28T15:38:49.346154Z",
          "shell.execute_reply": "2022-12-28T15:38:49.345238Z"
        },
        "papermill": {
          "duration": 0.055603,
          "end_time": "2022-12-28T15:38:49.348759",
          "exception": false,
          "start_time": "2022-12-28T15:38:49.293156",
          "status": "completed"
        },
        "tags": [],
        "id": "bd68284c"
      },
      "outputs": [],
      "source": [
        "df_cpy=df.copy()"
      ]
    },
    {
      "cell_type": "code",
      "execution_count": 27,
      "id": "289d7d75",
      "metadata": {
        "execution": {
          "iopub.execute_input": "2022-12-28T15:38:49.382084Z",
          "iopub.status.busy": "2022-12-28T15:38:49.381420Z",
          "iopub.status.idle": "2022-12-28T15:38:49.688364Z",
          "shell.execute_reply": "2022-12-28T15:38:49.687085Z"
        },
        "papermill": {
          "duration": 0.326764,
          "end_time": "2022-12-28T15:38:49.691230",
          "exception": false,
          "start_time": "2022-12-28T15:38:49.364466",
          "status": "completed"
        },
        "tags": [],
        "id": "289d7d75"
      },
      "outputs": [],
      "source": [
        "df_cpy['Gender']=pd.factorize(df_cpy.Gender)[0]\n",
        "df_cpy['Age']=pd.factorize(df_cpy.Age)[0]\n",
        "df_cpy['City_Category']=pd.factorize(df_cpy.City_Category)[0]\n",
        "df_cpy['Stay_In_Current_City_Years']=pd.factorize(df_cpy.Stay_In_Current_City_Years)[0]\n",
        "df_cpy['Product_ID']=pd.factorize(df_cpy.Product_ID)[0]\n",
        "df_cpy['User_ID']=pd.factorize(df_cpy.User_ID)[0]\n"
      ]
    },
    {
      "cell_type": "code",
      "execution_count": 28,
      "id": "21405926",
      "metadata": {
        "execution": {
          "iopub.execute_input": "2022-12-28T15:38:49.726000Z",
          "iopub.status.busy": "2022-12-28T15:38:49.725532Z",
          "iopub.status.idle": "2022-12-28T15:38:49.759306Z",
          "shell.execute_reply": "2022-12-28T15:38:49.758039Z"
        },
        "papermill": {
          "duration": 0.054581,
          "end_time": "2022-12-28T15:38:49.762254",
          "exception": false,
          "start_time": "2022-12-28T15:38:49.707673",
          "status": "completed"
        },
        "tags": [],
        "id": "21405926"
      },
      "outputs": [],
      "source": [
        "df_cpy['Product_Category_1']=pd.factorize(df_cpy.Product_Category_1)[0]\n",
        "df_cpy['Product_Category_2']=pd.factorize(df_cpy.Product_Category_2)[0]\n",
        "df_cpy['Product_Category_3']=pd.factorize(df_cpy.Product_Category_3)[0]"
      ]
    },
    {
      "cell_type": "code",
      "execution_count": 29,
      "id": "d9051a0e",
      "metadata": {
        "execution": {
          "iopub.execute_input": "2022-12-28T15:38:49.795552Z",
          "iopub.status.busy": "2022-12-28T15:38:49.795121Z",
          "iopub.status.idle": "2022-12-28T15:38:50.168035Z",
          "shell.execute_reply": "2022-12-28T15:38:50.166638Z"
        },
        "papermill": {
          "duration": 0.392722,
          "end_time": "2022-12-28T15:38:50.170777",
          "exception": false,
          "start_time": "2022-12-28T15:38:49.778055",
          "status": "completed"
        },
        "tags": [],
        "colab": {
          "base_uri": "https://localhost:8080/",
          "height": 470
        },
        "id": "d9051a0e",
        "outputId": "88901dac-5940-4234-d151-99785af5542b"
      },
      "outputs": [
        {
          "output_type": "execute_result",
          "data": {
            "text/plain": [
              "                             User_ID  Product_ID    Gender       Age  \\\n",
              "User_ID                     1.000000    0.004389 -0.038275 -0.039948   \n",
              "Product_ID                  0.004389    1.000000 -0.016938 -0.006908   \n",
              "Gender                     -0.038275   -0.016938  1.000000 -0.000777   \n",
              "Age                        -0.039948   -0.006908 -0.000777  1.000000   \n",
              "Occupation                 -0.023348   -0.004188  0.117291 -0.040858   \n",
              "City_Category               0.023497   -0.013383 -0.007688  0.042006   \n",
              "Stay_In_Current_City_Years  0.003509    0.007775 -0.015108  0.007013   \n",
              "Marital_Status              0.025181    0.013193 -0.011603 -0.078776   \n",
              "Product_Category_1          0.010296    0.286762 -0.006406 -0.006687   \n",
              "Product_Category_2          0.002447   -0.077515  0.021938  0.004906   \n",
              "Product_Category_3          0.000739   -0.173713  0.037288  0.008081   \n",
              "Purchase                    0.006735   -0.249081  0.060346  0.002344   \n",
              "\n",
              "                            Occupation  City_Category  \\\n",
              "User_ID                      -0.023348       0.023497   \n",
              "Product_ID                   -0.004188      -0.013383   \n",
              "Gender                        0.117291      -0.007688   \n",
              "Age                          -0.040858       0.042006   \n",
              "Occupation                    1.000000       0.005470   \n",
              "City_Category                 0.005470       1.000000   \n",
              "Stay_In_Current_City_Years   -0.010470      -0.011205   \n",
              "Marital_Status                0.024280       0.016846   \n",
              "Product_Category_1            0.003964      -0.006594   \n",
              "Product_Category_2            0.008461       0.011255   \n",
              "Product_Category_3            0.008824       0.011226   \n",
              "Purchase                      0.020833       0.011513   \n",
              "\n",
              "                            Stay_In_Current_City_Years  Marital_Status  \\\n",
              "User_ID                                       0.003509        0.025181   \n",
              "Product_ID                                    0.007775        0.013193   \n",
              "Gender                                       -0.015108       -0.011603   \n",
              "Age                                           0.007013       -0.078776   \n",
              "Occupation                                   -0.010470        0.024280   \n",
              "City_Category                                -0.011205        0.016846   \n",
              "Stay_In_Current_City_Years                    1.000000        0.010461   \n",
              "Marital_Status                                0.010461        1.000000   \n",
              "Product_Category_1                            0.003440        0.011935   \n",
              "Product_Category_2                           -0.001197       -0.002574   \n",
              "Product_Category_3                           -0.004844       -0.010064   \n",
              "Purchase                                     -0.007504       -0.000463   \n",
              "\n",
              "                            Product_Category_1  Product_Category_2  \\\n",
              "User_ID                               0.010296            0.002447   \n",
              "Product_ID                            0.286762           -0.077515   \n",
              "Gender                               -0.006406            0.021938   \n",
              "Age                                  -0.006687            0.004906   \n",
              "Occupation                            0.003964            0.008461   \n",
              "City_Category                        -0.006594            0.011255   \n",
              "Stay_In_Current_City_Years            0.003440           -0.001197   \n",
              "Marital_Status                        0.011935           -0.002574   \n",
              "Product_Category_1                    1.000000           -0.108763   \n",
              "Product_Category_2                   -0.108763            1.000000   \n",
              "Product_Category_3                   -0.217742            0.238617   \n",
              "Purchase                             -0.130190            0.129176   \n",
              "\n",
              "                            Product_Category_3  Purchase  \n",
              "User_ID                               0.000739  0.006735  \n",
              "Product_ID                           -0.173713 -0.249081  \n",
              "Gender                                0.037288  0.060346  \n",
              "Age                                   0.008081  0.002344  \n",
              "Occupation                            0.008824  0.020833  \n",
              "City_Category                         0.011226  0.011513  \n",
              "Stay_In_Current_City_Years           -0.004844 -0.007504  \n",
              "Marital_Status                       -0.010064 -0.000463  \n",
              "Product_Category_1                   -0.217742 -0.130190  \n",
              "Product_Category_2                    0.238617  0.129176  \n",
              "Product_Category_3                    1.000000  0.262353  \n",
              "Purchase                              0.262353  1.000000  "
            ],
            "text/html": [
              "\n",
              "  <div id=\"df-d7f135ff-7f7a-42f7-af1f-3ac4b1f4494c\">\n",
              "    <div class=\"colab-df-container\">\n",
              "      <div>\n",
              "<style scoped>\n",
              "    .dataframe tbody tr th:only-of-type {\n",
              "        vertical-align: middle;\n",
              "    }\n",
              "\n",
              "    .dataframe tbody tr th {\n",
              "        vertical-align: top;\n",
              "    }\n",
              "\n",
              "    .dataframe thead th {\n",
              "        text-align: right;\n",
              "    }\n",
              "</style>\n",
              "<table border=\"1\" class=\"dataframe\">\n",
              "  <thead>\n",
              "    <tr style=\"text-align: right;\">\n",
              "      <th></th>\n",
              "      <th>User_ID</th>\n",
              "      <th>Product_ID</th>\n",
              "      <th>Gender</th>\n",
              "      <th>Age</th>\n",
              "      <th>Occupation</th>\n",
              "      <th>City_Category</th>\n",
              "      <th>Stay_In_Current_City_Years</th>\n",
              "      <th>Marital_Status</th>\n",
              "      <th>Product_Category_1</th>\n",
              "      <th>Product_Category_2</th>\n",
              "      <th>Product_Category_3</th>\n",
              "      <th>Purchase</th>\n",
              "    </tr>\n",
              "  </thead>\n",
              "  <tbody>\n",
              "    <tr>\n",
              "      <th>User_ID</th>\n",
              "      <td>1.000000</td>\n",
              "      <td>0.004389</td>\n",
              "      <td>-0.038275</td>\n",
              "      <td>-0.039948</td>\n",
              "      <td>-0.023348</td>\n",
              "      <td>0.023497</td>\n",
              "      <td>0.003509</td>\n",
              "      <td>0.025181</td>\n",
              "      <td>0.010296</td>\n",
              "      <td>0.002447</td>\n",
              "      <td>0.000739</td>\n",
              "      <td>0.006735</td>\n",
              "    </tr>\n",
              "    <tr>\n",
              "      <th>Product_ID</th>\n",
              "      <td>0.004389</td>\n",
              "      <td>1.000000</td>\n",
              "      <td>-0.016938</td>\n",
              "      <td>-0.006908</td>\n",
              "      <td>-0.004188</td>\n",
              "      <td>-0.013383</td>\n",
              "      <td>0.007775</td>\n",
              "      <td>0.013193</td>\n",
              "      <td>0.286762</td>\n",
              "      <td>-0.077515</td>\n",
              "      <td>-0.173713</td>\n",
              "      <td>-0.249081</td>\n",
              "    </tr>\n",
              "    <tr>\n",
              "      <th>Gender</th>\n",
              "      <td>-0.038275</td>\n",
              "      <td>-0.016938</td>\n",
              "      <td>1.000000</td>\n",
              "      <td>-0.000777</td>\n",
              "      <td>0.117291</td>\n",
              "      <td>-0.007688</td>\n",
              "      <td>-0.015108</td>\n",
              "      <td>-0.011603</td>\n",
              "      <td>-0.006406</td>\n",
              "      <td>0.021938</td>\n",
              "      <td>0.037288</td>\n",
              "      <td>0.060346</td>\n",
              "    </tr>\n",
              "    <tr>\n",
              "      <th>Age</th>\n",
              "      <td>-0.039948</td>\n",
              "      <td>-0.006908</td>\n",
              "      <td>-0.000777</td>\n",
              "      <td>1.000000</td>\n",
              "      <td>-0.040858</td>\n",
              "      <td>0.042006</td>\n",
              "      <td>0.007013</td>\n",
              "      <td>-0.078776</td>\n",
              "      <td>-0.006687</td>\n",
              "      <td>0.004906</td>\n",
              "      <td>0.008081</td>\n",
              "      <td>0.002344</td>\n",
              "    </tr>\n",
              "    <tr>\n",
              "      <th>Occupation</th>\n",
              "      <td>-0.023348</td>\n",
              "      <td>-0.004188</td>\n",
              "      <td>0.117291</td>\n",
              "      <td>-0.040858</td>\n",
              "      <td>1.000000</td>\n",
              "      <td>0.005470</td>\n",
              "      <td>-0.010470</td>\n",
              "      <td>0.024280</td>\n",
              "      <td>0.003964</td>\n",
              "      <td>0.008461</td>\n",
              "      <td>0.008824</td>\n",
              "      <td>0.020833</td>\n",
              "    </tr>\n",
              "    <tr>\n",
              "      <th>City_Category</th>\n",
              "      <td>0.023497</td>\n",
              "      <td>-0.013383</td>\n",
              "      <td>-0.007688</td>\n",
              "      <td>0.042006</td>\n",
              "      <td>0.005470</td>\n",
              "      <td>1.000000</td>\n",
              "      <td>-0.011205</td>\n",
              "      <td>0.016846</td>\n",
              "      <td>-0.006594</td>\n",
              "      <td>0.011255</td>\n",
              "      <td>0.011226</td>\n",
              "      <td>0.011513</td>\n",
              "    </tr>\n",
              "    <tr>\n",
              "      <th>Stay_In_Current_City_Years</th>\n",
              "      <td>0.003509</td>\n",
              "      <td>0.007775</td>\n",
              "      <td>-0.015108</td>\n",
              "      <td>0.007013</td>\n",
              "      <td>-0.010470</td>\n",
              "      <td>-0.011205</td>\n",
              "      <td>1.000000</td>\n",
              "      <td>0.010461</td>\n",
              "      <td>0.003440</td>\n",
              "      <td>-0.001197</td>\n",
              "      <td>-0.004844</td>\n",
              "      <td>-0.007504</td>\n",
              "    </tr>\n",
              "    <tr>\n",
              "      <th>Marital_Status</th>\n",
              "      <td>0.025181</td>\n",
              "      <td>0.013193</td>\n",
              "      <td>-0.011603</td>\n",
              "      <td>-0.078776</td>\n",
              "      <td>0.024280</td>\n",
              "      <td>0.016846</td>\n",
              "      <td>0.010461</td>\n",
              "      <td>1.000000</td>\n",
              "      <td>0.011935</td>\n",
              "      <td>-0.002574</td>\n",
              "      <td>-0.010064</td>\n",
              "      <td>-0.000463</td>\n",
              "    </tr>\n",
              "    <tr>\n",
              "      <th>Product_Category_1</th>\n",
              "      <td>0.010296</td>\n",
              "      <td>0.286762</td>\n",
              "      <td>-0.006406</td>\n",
              "      <td>-0.006687</td>\n",
              "      <td>0.003964</td>\n",
              "      <td>-0.006594</td>\n",
              "      <td>0.003440</td>\n",
              "      <td>0.011935</td>\n",
              "      <td>1.000000</td>\n",
              "      <td>-0.108763</td>\n",
              "      <td>-0.217742</td>\n",
              "      <td>-0.130190</td>\n",
              "    </tr>\n",
              "    <tr>\n",
              "      <th>Product_Category_2</th>\n",
              "      <td>0.002447</td>\n",
              "      <td>-0.077515</td>\n",
              "      <td>0.021938</td>\n",
              "      <td>0.004906</td>\n",
              "      <td>0.008461</td>\n",
              "      <td>0.011255</td>\n",
              "      <td>-0.001197</td>\n",
              "      <td>-0.002574</td>\n",
              "      <td>-0.108763</td>\n",
              "      <td>1.000000</td>\n",
              "      <td>0.238617</td>\n",
              "      <td>0.129176</td>\n",
              "    </tr>\n",
              "    <tr>\n",
              "      <th>Product_Category_3</th>\n",
              "      <td>0.000739</td>\n",
              "      <td>-0.173713</td>\n",
              "      <td>0.037288</td>\n",
              "      <td>0.008081</td>\n",
              "      <td>0.008824</td>\n",
              "      <td>0.011226</td>\n",
              "      <td>-0.004844</td>\n",
              "      <td>-0.010064</td>\n",
              "      <td>-0.217742</td>\n",
              "      <td>0.238617</td>\n",
              "      <td>1.000000</td>\n",
              "      <td>0.262353</td>\n",
              "    </tr>\n",
              "    <tr>\n",
              "      <th>Purchase</th>\n",
              "      <td>0.006735</td>\n",
              "      <td>-0.249081</td>\n",
              "      <td>0.060346</td>\n",
              "      <td>0.002344</td>\n",
              "      <td>0.020833</td>\n",
              "      <td>0.011513</td>\n",
              "      <td>-0.007504</td>\n",
              "      <td>-0.000463</td>\n",
              "      <td>-0.130190</td>\n",
              "      <td>0.129176</td>\n",
              "      <td>0.262353</td>\n",
              "      <td>1.000000</td>\n",
              "    </tr>\n",
              "  </tbody>\n",
              "</table>\n",
              "</div>\n",
              "      <button class=\"colab-df-convert\" onclick=\"convertToInteractive('df-d7f135ff-7f7a-42f7-af1f-3ac4b1f4494c')\"\n",
              "              title=\"Convert this dataframe to an interactive table.\"\n",
              "              style=\"display:none;\">\n",
              "        \n",
              "  <svg xmlns=\"http://www.w3.org/2000/svg\" height=\"24px\"viewBox=\"0 0 24 24\"\n",
              "       width=\"24px\">\n",
              "    <path d=\"M0 0h24v24H0V0z\" fill=\"none\"/>\n",
              "    <path d=\"M18.56 5.44l.94 2.06.94-2.06 2.06-.94-2.06-.94-.94-2.06-.94 2.06-2.06.94zm-11 1L8.5 8.5l.94-2.06 2.06-.94-2.06-.94L8.5 2.5l-.94 2.06-2.06.94zm10 10l.94 2.06.94-2.06 2.06-.94-2.06-.94-.94-2.06-.94 2.06-2.06.94z\"/><path d=\"M17.41 7.96l-1.37-1.37c-.4-.4-.92-.59-1.43-.59-.52 0-1.04.2-1.43.59L10.3 9.45l-7.72 7.72c-.78.78-.78 2.05 0 2.83L4 21.41c.39.39.9.59 1.41.59.51 0 1.02-.2 1.41-.59l7.78-7.78 2.81-2.81c.8-.78.8-2.07 0-2.86zM5.41 20L4 18.59l7.72-7.72 1.47 1.35L5.41 20z\"/>\n",
              "  </svg>\n",
              "      </button>\n",
              "      \n",
              "  <style>\n",
              "    .colab-df-container {\n",
              "      display:flex;\n",
              "      flex-wrap:wrap;\n",
              "      gap: 12px;\n",
              "    }\n",
              "\n",
              "    .colab-df-convert {\n",
              "      background-color: #E8F0FE;\n",
              "      border: none;\n",
              "      border-radius: 50%;\n",
              "      cursor: pointer;\n",
              "      display: none;\n",
              "      fill: #1967D2;\n",
              "      height: 32px;\n",
              "      padding: 0 0 0 0;\n",
              "      width: 32px;\n",
              "    }\n",
              "\n",
              "    .colab-df-convert:hover {\n",
              "      background-color: #E2EBFA;\n",
              "      box-shadow: 0px 1px 2px rgba(60, 64, 67, 0.3), 0px 1px 3px 1px rgba(60, 64, 67, 0.15);\n",
              "      fill: #174EA6;\n",
              "    }\n",
              "\n",
              "    [theme=dark] .colab-df-convert {\n",
              "      background-color: #3B4455;\n",
              "      fill: #D2E3FC;\n",
              "    }\n",
              "\n",
              "    [theme=dark] .colab-df-convert:hover {\n",
              "      background-color: #434B5C;\n",
              "      box-shadow: 0px 1px 3px 1px rgba(0, 0, 0, 0.15);\n",
              "      filter: drop-shadow(0px 1px 2px rgba(0, 0, 0, 0.3));\n",
              "      fill: #FFFFFF;\n",
              "    }\n",
              "  </style>\n",
              "\n",
              "      <script>\n",
              "        const buttonEl =\n",
              "          document.querySelector('#df-d7f135ff-7f7a-42f7-af1f-3ac4b1f4494c button.colab-df-convert');\n",
              "        buttonEl.style.display =\n",
              "          google.colab.kernel.accessAllowed ? 'block' : 'none';\n",
              "\n",
              "        async function convertToInteractive(key) {\n",
              "          const element = document.querySelector('#df-d7f135ff-7f7a-42f7-af1f-3ac4b1f4494c');\n",
              "          const dataTable =\n",
              "            await google.colab.kernel.invokeFunction('convertToInteractive',\n",
              "                                                     [key], {});\n",
              "          if (!dataTable) return;\n",
              "\n",
              "          const docLinkHtml = 'Like what you see? Visit the ' +\n",
              "            '<a target=\"_blank\" href=https://colab.research.google.com/notebooks/data_table.ipynb>data table notebook</a>'\n",
              "            + ' to learn more about interactive tables.';\n",
              "          element.innerHTML = '';\n",
              "          dataTable['output_type'] = 'display_data';\n",
              "          await google.colab.output.renderOutput(dataTable, element);\n",
              "          const docLink = document.createElement('div');\n",
              "          docLink.innerHTML = docLinkHtml;\n",
              "          element.appendChild(docLink);\n",
              "        }\n",
              "      </script>\n",
              "    </div>\n",
              "  </div>\n",
              "  "
            ]
          },
          "metadata": {},
          "execution_count": 29
        }
      ],
      "source": [
        "df_cpy.corr()"
      ]
    },
    {
      "cell_type": "code",
      "execution_count": 30,
      "id": "d5c6acc7",
      "metadata": {
        "execution": {
          "iopub.execute_input": "2022-12-28T15:38:50.206238Z",
          "iopub.status.busy": "2022-12-28T15:38:50.205775Z",
          "iopub.status.idle": "2022-12-28T15:38:51.720243Z",
          "shell.execute_reply": "2022-12-28T15:38:51.718950Z"
        },
        "papermill": {
          "duration": 1.535338,
          "end_time": "2022-12-28T15:38:51.723168",
          "exception": false,
          "start_time": "2022-12-28T15:38:50.187830",
          "status": "completed"
        },
        "tags": [],
        "colab": {
          "base_uri": "https://localhost:8080/",
          "height": 413
        },
        "id": "d5c6acc7",
        "outputId": "902de827-6fa6-4b44-9c5c-de8fe4faaff0"
      },
      "outputs": [
        {
          "output_type": "execute_result",
          "data": {
            "text/plain": [
              "<matplotlib.axes._subplots.AxesSubplot at 0x7f14ef1402b0>"
            ]
          },
          "metadata": {},
          "execution_count": 30
        },
        {
          "output_type": "display_data",
          "data": {
            "text/plain": [
              "<Figure size 432x288 with 2 Axes>"
            ],
            "image/png": "[encoded data removed]"
          },
          "metadata": {
            "needs_background": "light"
          }
        }
      ],
      "source": [
        "# No strong correlation between features\n",
        "# so will be difficut to make strong predictions\n",
        "sns.heatmap(df_cpy.corr(),annot=True,fmt='.2f')"
      ]
    },
    {
      "cell_type": "markdown",
      "id": "c1455ed0",
      "metadata": {
        "papermill": {
          "duration": 0.017385,
          "end_time": "2022-12-28T15:38:51.758474",
          "exception": false,
          "start_time": "2022-12-28T15:38:51.741089",
          "status": "completed"
        },
        "tags": [],
        "id": "c1455ed0"
      },
      "source": [
        "## Model for Purchase prediction"
      ]
    },
    {
      "cell_type": "code",
      "execution_count": 31,
      "id": "3f7f6112",
      "metadata": {
        "execution": {
          "iopub.execute_input": "2022-12-28T15:38:51.795223Z",
          "iopub.status.busy": "2022-12-28T15:38:51.794770Z",
          "iopub.status.idle": "2022-12-28T15:38:52.096896Z",
          "shell.execute_reply": "2022-12-28T15:38:52.095562Z"
        },
        "papermill": {
          "duration": 0.323692,
          "end_time": "2022-12-28T15:38:52.099591",
          "exception": false,
          "start_time": "2022-12-28T15:38:51.775899",
          "status": "completed"
        },
        "tags": [],
        "id": "3f7f6112"
      },
      "outputs": [],
      "source": [
        "from sklearn.model_selection import train_test_split\n",
        "from sklearn.linear_model import LinearRegression\n",
        "from sklearn import metrics\n",
        "from sklearn.metrics import r2_score"
      ]
    },
    {
      "cell_type": "code",
      "execution_count": 32,
      "id": "788e38a9",
      "metadata": {
        "execution": {
          "iopub.execute_input": "2022-12-28T15:38:52.137551Z",
          "iopub.status.busy": "2022-12-28T15:38:52.137153Z",
          "iopub.status.idle": "2022-12-28T15:38:52.142049Z",
          "shell.execute_reply": "2022-12-28T15:38:52.140736Z"
        },
        "papermill": {
          "duration": 0.02689,
          "end_time": "2022-12-28T15:38:52.144278",
          "exception": false,
          "start_time": "2022-12-28T15:38:52.117388",
          "status": "completed"
        },
        "tags": [],
        "id": "788e38a9"
      },
      "outputs": [],
      "source": [
        "from sklearn import preprocessing"
      ]
    },
    {
      "cell_type": "code",
      "execution_count": 33,
      "id": "fc50686b",
      "metadata": {
        "execution": {
          "iopub.execute_input": "2022-12-28T15:38:52.181170Z",
          "iopub.status.busy": "2022-12-28T15:38:52.180433Z",
          "iopub.status.idle": "2022-12-28T15:38:52.195759Z",
          "shell.execute_reply": "2022-12-28T15:38:52.194485Z"
        },
        "papermill": {
          "duration": 0.03662,
          "end_time": "2022-12-28T15:38:52.198228",
          "exception": false,
          "start_time": "2022-12-28T15:38:52.161608",
          "status": "completed"
        },
        "tags": [],
        "colab": {
          "base_uri": "https://localhost:8080/",
          "height": 206
        },
        "id": "fc50686b",
        "outputId": "2c079505-5365-4d97-87ea-0a80fb119482"
      },
      "outputs": [
        {
          "output_type": "execute_result",
          "data": {
            "text/plain": [
              "   User_ID  Product_ID  Gender  Age  Occupation  City_Category  \\\n",
              "0        0           0       0    0          10              0   \n",
              "1        0           1       0    0          10              0   \n",
              "2        0           2       0    0          10              0   \n",
              "3        0           3       0    0          10              0   \n",
              "4        1           4       1    1          16              1   \n",
              "\n",
              "   Stay_In_Current_City_Years  Marital_Status  Product_Category_1  \\\n",
              "0                           0               0                   0   \n",
              "1                           0               0                   1   \n",
              "2                           0               0                   2   \n",
              "3                           0               0                   2   \n",
              "4                           1               0                   3   \n",
              "\n",
              "   Product_Category_2  Product_Category_3  Purchase  \n",
              "0                   0                   0      8370  \n",
              "1                   1                   1     15200  \n",
              "2                   0                   0      1422  \n",
              "3                   2                   0      1057  \n",
              "4                   0                   0      7969  "
            ],
            "text/html": [
              "\n",
              "  <div id=\"df-d6ee1bb2-703f-491c-8ce6-38fb72bc9d6b\">\n",
              "    <div class=\"colab-df-container\">\n",
              "      <div>\n",
              "<style scoped>\n",
              "    .dataframe tbody tr th:only-of-type {\n",
              "        vertical-align: middle;\n",
              "    }\n",
              "\n",
              "    .dataframe tbody tr th {\n",
              "        vertical-align: top;\n",
              "    }\n",
              "\n",
              "    .dataframe thead th {\n",
              "        text-align: right;\n",
              "    }\n",
              "</style>\n",
              "<table border=\"1\" class=\"dataframe\">\n",
              "  <thead>\n",
              "    <tr style=\"text-align: right;\">\n",
              "      <th></th>\n",
              "      <th>User_ID</th>\n",
              "      <th>Product_ID</th>\n",
              "      <th>Gender</th>\n",
              "      <th>Age</th>\n",
              "      <th>Occupation</th>\n",
              "      <th>City_Category</th>\n",
              "      <th>Stay_In_Current_City_Years</th>\n",
              "      <th>Marital_Status</th>\n",
              "      <th>Product_Category_1</th>\n",
              "      <th>Product_Category_2</th>\n",
              "      <th>Product_Category_3</th>\n",
              "      <th>Purchase</th>\n",
              "    </tr>\n",
              "  </thead>\n",
              "  <tbody>\n",
              "    <tr>\n",
              "      <th>0</th>\n",
              "      <td>0</td>\n",
              "      <td>0</td>\n",
              "      <td>0</td>\n",
              "      <td>0</td>\n",
              "      <td>10</td>\n",
              "      <td>0</td>\n",
              "      <td>0</td>\n",
              "      <td>0</td>\n",
              "      <td>0</td>\n",
              "      <td>0</td>\n",
              "      <td>0</td>\n",
              "      <td>8370</td>\n",
              "    </tr>\n",
              "    <tr>\n",
              "      <th>1</th>\n",
              "      <td>0</td>\n",
              "      <td>1</td>\n",
              "      <td>0</td>\n",
              "      <td>0</td>\n",
              "      <td>10</td>\n",
              "      <td>0</td>\n",
              "      <td>0</td>\n",
              "      <td>0</td>\n",
              "      <td>1</td>\n",
              "      <td>1</td>\n",
              "      <td>1</td>\n",
              "      <td>15200</td>\n",
              "    </tr>\n",
              "    <tr>\n",
              "      <th>2</th>\n",
              "      <td>0</td>\n",
              "      <td>2</td>\n",
              "      <td>0</td>\n",
              "      <td>0</td>\n",
              "      <td>10</td>\n",
              "      <td>0</td>\n",
              "      <td>0</td>\n",
              "      <td>0</td>\n",
              "      <td>2</td>\n",
              "      <td>0</td>\n",
              "      <td>0</td>\n",
              "      <td>1422</td>\n",
              "    </tr>\n",
              "    <tr>\n",
              "      <th>3</th>\n",
              "      <td>0</td>\n",
              "      <td>3</td>\n",
              "      <td>0</td>\n",
              "      <td>0</td>\n",
              "      <td>10</td>\n",
              "      <td>0</td>\n",
              "      <td>0</td>\n",
              "      <td>0</td>\n",
              "      <td>2</td>\n",
              "      <td>2</td>\n",
              "      <td>0</td>\n",
              "      <td>1057</td>\n",
              "    </tr>\n",
              "    <tr>\n",
              "      <th>4</th>\n",
              "      <td>1</td>\n",
              "      <td>4</td>\n",
              "      <td>1</td>\n",
              "      <td>1</td>\n",
              "      <td>16</td>\n",
              "      <td>1</td>\n",
              "      <td>1</td>\n",
              "      <td>0</td>\n",
              "      <td>3</td>\n",
              "      <td>0</td>\n",
              "      <td>0</td>\n",
              "      <td>7969</td>\n",
              "    </tr>\n",
              "  </tbody>\n",
              "</table>\n",
              "</div>\n",
              "      <button class=\"colab-df-convert\" onclick=\"convertToInteractive('df-d6ee1bb2-703f-491c-8ce6-38fb72bc9d6b')\"\n",
              "              title=\"Convert this dataframe to an interactive table.\"\n",
              "              style=\"display:none;\">\n",
              "        \n",
              "  <svg xmlns=\"http://www.w3.org/2000/svg\" height=\"24px\"viewBox=\"0 0 24 24\"\n",
              "       width=\"24px\">\n",
              "    <path d=\"M0 0h24v24H0V0z\" fill=\"none\"/>\n",
              "    <path d=\"M18.56 5.44l.94 2.06.94-2.06 2.06-.94-2.06-.94-.94-2.06-.94 2.06-2.06.94zm-11 1L8.5 8.5l.94-2.06 2.06-.94-2.06-.94L8.5 2.5l-.94 2.06-2.06.94zm10 10l.94 2.06.94-2.06 2.06-.94-2.06-.94-.94-2.06-.94 2.06-2.06.94z\"/><path d=\"M17.41 7.96l-1.37-1.37c-.4-.4-.92-.59-1.43-.59-.52 0-1.04.2-1.43.59L10.3 9.45l-7.72 7.72c-.78.78-.78 2.05 0 2.83L4 21.41c.39.39.9.59 1.41.59.51 0 1.02-.2 1.41-.59l7.78-7.78 2.81-2.81c.8-.78.8-2.07 0-2.86zM5.41 20L4 18.59l7.72-7.72 1.47 1.35L5.41 20z\"/>\n",
              "  </svg>\n",
              "      </button>\n",
              "      \n",
              "  <style>\n",
              "    .colab-df-container {\n",
              "      display:flex;\n",
              "      flex-wrap:wrap;\n",
              "      gap: 12px;\n",
              "    }\n",
              "\n",
              "    .colab-df-convert {\n",
              "      background-color: #E8F0FE;\n",
              "      border: none;\n",
              "      border-radius: 50%;\n",
              "      cursor: pointer;\n",
              "      display: none;\n",
              "      fill: #1967D2;\n",
              "      height: 32px;\n",
              "      padding: 0 0 0 0;\n",
              "      width: 32px;\n",
              "    }\n",
              "\n",
              "    .colab-df-convert:hover {\n",
              "      background-color: #E2EBFA;\n",
              "      box-shadow: 0px 1px 2px rgba(60, 64, 67, 0.3), 0px 1px 3px 1px rgba(60, 64, 67, 0.15);\n",
              "      fill: #174EA6;\n",
              "    }\n",
              "\n",
              "    [theme=dark] .colab-df-convert {\n",
              "      background-color: #3B4455;\n",
              "      fill: #D2E3FC;\n",
              "    }\n",
              "\n",
              "    [theme=dark] .colab-df-convert:hover {\n",
              "      background-color: #434B5C;\n",
              "      box-shadow: 0px 1px 3px 1px rgba(0, 0, 0, 0.15);\n",
              "      filter: drop-shadow(0px 1px 2px rgba(0, 0, 0, 0.3));\n",
              "      fill: #FFFFFF;\n",
              "    }\n",
              "  </style>\n",
              "\n",
              "      <script>\n",
              "        const buttonEl =\n",
              "          document.querySelector('#df-d6ee1bb2-703f-491c-8ce6-38fb72bc9d6b button.colab-df-convert');\n",
              "        buttonEl.style.display =\n",
              "          google.colab.kernel.accessAllowed ? 'block' : 'none';\n",
              "\n",
              "        async function convertToInteractive(key) {\n",
              "          const element = document.querySelector('#df-d6ee1bb2-703f-491c-8ce6-38fb72bc9d6b');\n",
              "          const dataTable =\n",
              "            await google.colab.kernel.invokeFunction('convertToInteractive',\n",
              "                                                     [key], {});\n",
              "          if (!dataTable) return;\n",
              "\n",
              "          const docLinkHtml = 'Like what you see? Visit the ' +\n",
              "            '<a target=\"_blank\" href=https://colab.research.google.com/notebooks/data_table.ipynb>data table notebook</a>'\n",
              "            + ' to learn more about interactive tables.';\n",
              "          element.innerHTML = '';\n",
              "          dataTable['output_type'] = 'display_data';\n",
              "          await google.colab.output.renderOutput(dataTable, element);\n",
              "          const docLink = document.createElement('div');\n",
              "          docLink.innerHTML = docLinkHtml;\n",
              "          element.appendChild(docLink);\n",
              "        }\n",
              "      </script>\n",
              "    </div>\n",
              "  </div>\n",
              "  "
            ]
          },
          "metadata": {},
          "execution_count": 33
        }
      ],
      "source": [
        "df_cpy.head()"
      ]
    },
    {
      "cell_type": "code",
      "execution_count": 34,
      "id": "6ae74c43",
      "metadata": {
        "execution": {
          "iopub.execute_input": "2022-12-28T15:38:52.235561Z",
          "iopub.status.busy": "2022-12-28T15:38:52.234705Z",
          "iopub.status.idle": "2022-12-28T15:38:52.242789Z",
          "shell.execute_reply": "2022-12-28T15:38:52.241619Z"
        },
        "papermill": {
          "duration": 0.029383,
          "end_time": "2022-12-28T15:38:52.245181",
          "exception": false,
          "start_time": "2022-12-28T15:38:52.215798",
          "status": "completed"
        },
        "tags": [],
        "colab": {
          "base_uri": "https://localhost:8080/"
        },
        "id": "6ae74c43",
        "outputId": "556cb049-204a-4745-acbd-e4b0a30f2ef4"
      },
      "outputs": [
        {
          "output_type": "execute_result",
          "data": {
            "text/plain": [
              "Index(['User_ID', 'Product_ID', 'Gender', 'Age', 'Occupation', 'City_Category',\n",
              "       'Stay_In_Current_City_Years', 'Marital_Status', 'Product_Category_1',\n",
              "       'Product_Category_2', 'Product_Category_3', 'Purchase'],\n",
              "      dtype='object')"
            ]
          },
          "metadata": {},
          "execution_count": 34
        }
      ],
      "source": [
        "df_cpy.columns"
      ]
    },
    {
      "cell_type": "code",
      "execution_count": 35,
      "id": "55eb14c9",
      "metadata": {
        "execution": {
          "iopub.execute_input": "2022-12-28T15:38:52.283334Z",
          "iopub.status.busy": "2022-12-28T15:38:52.282002Z",
          "iopub.status.idle": "2022-12-28T15:38:52.339221Z",
          "shell.execute_reply": "2022-12-28T15:38:52.338221Z"
        },
        "papermill": {
          "duration": 0.078999,
          "end_time": "2022-12-28T15:38:52.341718",
          "exception": false,
          "start_time": "2022-12-28T15:38:52.262719",
          "status": "completed"
        },
        "tags": [],
        "id": "55eb14c9"
      },
      "outputs": [],
      "source": [
        "X=df_cpy[[ 'Gender','Product_ID','Occupation','City_Category','Stay_In_Current_City_Years','Marital_Status','Product_Category_1','Product_Category_2','Product_Category_3']]\n",
        "y=df_cpy['Purchase']"
      ]
    },
    {
      "cell_type": "code",
      "execution_count": 36,
      "id": "d28f9913",
      "metadata": {
        "execution": {
          "iopub.execute_input": "2022-12-28T15:38:52.379216Z",
          "iopub.status.busy": "2022-12-28T15:38:52.378303Z",
          "iopub.status.idle": "2022-12-28T15:38:52.473128Z",
          "shell.execute_reply": "2022-12-28T15:38:52.471860Z"
        },
        "papermill": {
          "duration": 0.11668,
          "end_time": "2022-12-28T15:38:52.475935",
          "exception": false,
          "start_time": "2022-12-28T15:38:52.359255",
          "status": "completed"
        },
        "tags": [],
        "id": "d28f9913"
      },
      "outputs": [],
      "source": [
        "# data pre-processing\n",
        "X = preprocessing.StandardScaler().fit(X).transform(X)"
      ]
    },
    {
      "cell_type": "code",
      "execution_count": 37,
      "id": "52be4e9c",
      "metadata": {
        "execution": {
          "iopub.execute_input": "2022-12-28T15:38:52.514139Z",
          "iopub.status.busy": "2022-12-28T15:38:52.513393Z",
          "iopub.status.idle": "2022-12-28T15:38:52.776703Z",
          "shell.execute_reply": "2022-12-28T15:38:52.774825Z"
        },
        "papermill": {
          "duration": 0.287521,
          "end_time": "2022-12-28T15:38:52.781822",
          "exception": false,
          "start_time": "2022-12-28T15:38:52.494301",
          "status": "completed"
        },
        "tags": [],
        "id": "52be4e9c"
      },
      "outputs": [],
      "source": [
        "model = LinearRegression()\n",
        "X_train, X_test, y_train, y_test = train_test_split(X, y, test_size = 0.30, random_state = 100)\n",
        "model.fit(X_train, y_train)\n",
        "pred = model.predict(X_test)"
      ]
    },
    {
      "cell_type": "code",
      "execution_count": 38,
      "id": "a23b80f6",
      "metadata": {
        "execution": {
          "iopub.execute_input": "2022-12-28T15:38:52.902244Z",
          "iopub.status.busy": "2022-12-28T15:38:52.901837Z",
          "iopub.status.idle": "2022-12-28T15:38:52.910988Z",
          "shell.execute_reply": "2022-12-28T15:38:52.910162Z"
        },
        "papermill": {
          "duration": 0.046512,
          "end_time": "2022-12-28T15:38:52.913095",
          "exception": false,
          "start_time": "2022-12-28T15:38:52.866583",
          "status": "completed"
        },
        "tags": [],
        "colab": {
          "base_uri": "https://localhost:8080/"
        },
        "id": "a23b80f6",
        "outputId": "29d3ae21-d487-40bc-8a31-c7070ab6e391"
      },
      "outputs": [
        {
          "output_type": "execute_result",
          "data": {
            "text/plain": [
              "0.11849692995243144"
            ]
          },
          "metadata": {},
          "execution_count": 38
        }
      ],
      "source": [
        "r2=r2_score(y_test, pred)\n",
        "r2\n",
        "## due to poor co-relation between features"
      ]
    },
    {
      "cell_type": "markdown",
      "id": "92f49e5b",
      "metadata": {
        "papermill": {
          "duration": 0.017456,
          "end_time": "2022-12-28T15:38:52.948370",
          "exception": false,
          "start_time": "2022-12-28T15:38:52.930914",
          "status": "completed"
        },
        "tags": [],
        "id": "92f49e5b"
      },
      "source": [
        "## Testing New Model"
      ]
    },
    {
      "cell_type": "code",
      "execution_count": 39,
      "id": "cbb7afab",
      "metadata": {
        "execution": {
          "iopub.execute_input": "2022-12-28T15:38:52.987225Z",
          "iopub.status.busy": "2022-12-28T15:38:52.986764Z",
          "iopub.status.idle": "2022-12-28T15:38:53.091501Z",
          "shell.execute_reply": "2022-12-28T15:38:53.090289Z"
        },
        "papermill": {
          "duration": 0.127184,
          "end_time": "2022-12-28T15:38:53.094422",
          "exception": false,
          "start_time": "2022-12-28T15:38:52.967238",
          "status": "completed"
        },
        "tags": [],
        "id": "cbb7afab"
      },
      "outputs": [],
      "source": [
        "import xgboost as xgb"
      ]
    },
    {
      "cell_type": "code",
      "execution_count": 40,
      "id": "2c2584ee",
      "metadata": {
        "execution": {
          "iopub.execute_input": "2022-12-28T15:38:53.133185Z",
          "iopub.status.busy": "2022-12-28T15:38:53.132042Z",
          "iopub.status.idle": "2022-12-28T15:39:12.582151Z",
          "shell.execute_reply": "2022-12-28T15:39:12.581158Z"
        },
        "papermill": {
          "duration": 19.472337,
          "end_time": "2022-12-28T15:39:12.584942",
          "exception": false,
          "start_time": "2022-12-28T15:38:53.112605",
          "status": "completed"
        },
        "tags": [],
        "id": "2c2584ee"
      },
      "outputs": [],
      "source": [
        "model = xgb.XGBRegressor(objective='reg:squarederror')\n",
        "X_train, X_test, y_train, y_test = train_test_split(X, y, test_size = 0.20, random_state = 42)\n",
        "model.fit(X_train, y_train)\n",
        "pred = model.predict(X_test)"
      ]
    },
    {
      "cell_type": "code",
      "execution_count": 42,
      "id": "e4991f10",
      "metadata": {
        "execution": {
          "iopub.execute_input": "2022-12-28T15:39:12.624431Z",
          "iopub.status.busy": "2022-12-28T15:39:12.624047Z",
          "iopub.status.idle": "2022-12-28T15:39:12.633812Z",
          "shell.execute_reply": "2022-12-28T15:39:12.632830Z"
        },
        "papermill": {
          "duration": 0.031224,
          "end_time": "2022-12-28T15:39:12.636188",
          "exception": false,
          "start_time": "2022-12-28T15:39:12.604964",
          "status": "completed"
        },
        "tags": [],
        "colab": {
          "base_uri": "https://localhost:8080/"
        },
        "id": "e4991f10",
        "outputId": "708104cf-6fa6-45fd-96f2-ac94d60425ab"
      },
      "outputs": [
        {
          "output_type": "execute_result",
          "data": {
            "text/plain": [
              "0.6547030155563517"
            ]
          },
          "metadata": {},
          "execution_count": 42
        }
      ],
      "source": [
        "r2=r2_score(y_test,pred)\n",
        "r2"
      ]
    },
    {
      "cell_type": "markdown",
      "id": "d313b006",
      "metadata": {
        "papermill": {
          "duration": 0.018403,
          "end_time": "2022-12-28T15:39:12.673106",
          "exception": false,
          "start_time": "2022-12-28T15:39:12.654703",
          "status": "completed"
        },
        "tags": [],
        "id": "d313b006"
      },
      "source": [
        "Now we have a model that has been tested with %65 accuracy that will predict the range of the purchase amount based on the data features. Upvote this notebook if you like this analysis."
      ]
    },
    {
      "cell_type": "code",
      "execution_count": 41,
      "id": "dd36ff78",
      "metadata": {
        "papermill": {
          "duration": 0.017786,
          "end_time": "2022-12-28T15:39:12.708947",
          "exception": false,
          "start_time": "2022-12-28T15:39:12.691161",
          "status": "completed"
        },
        "tags": [],
        "id": "dd36ff78"
      },
      "outputs": [],
      "source": []
    }
  ],
  "metadata": {
    "kernelspec": {
      "display_name": "Python 3",
      "language": "python",
      "name": "python3"
    },
    "language_info": {
      "codemirror_mode": {
        "name": "ipython",
        "version": 3
      },
      "file_extension": ".py",
      "mimetype": "text/x-python",
      "name": "python",
      "nbconvert_exporter": "python",
      "pygments_lexer": "ipython3",
      "version": "3.7.12"
    },
    "papermill": {
      "default_parameters": {},
      "duration": 40.287564,
      "end_time": "2022-12-28T15:39:13.548763",
      "environment_variables": {},
      "exception": null,
      "input_path": "__notebook__.ipynb",
      "output_path": "__notebook__.ipynb",
      "parameters": {},
      "start_time": "2022-12-28T15:38:33.261199",
      "version": "2.3.4"
    },
    "colab": {
      "provenance": [],
      "collapsed_sections": [
        "862500c7"
      ],
      "include_colab_link": true
    }
  },
  "nbformat": 4,
  "nbformat_minor": 5
}